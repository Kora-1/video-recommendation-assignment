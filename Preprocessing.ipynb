{
  "cells": [
    {
      "cell_type": "code",
      "execution_count": null,
      "metadata": {
        "id": "si0NxYc3KIDK"
      },
      "outputs": [],
      "source": [
        "import requests\n",
        "import pandas as pd\n",
        "import numpy as np\n",
        "from sklearn.model_selection import train_test_split\n",
        "from sklearn.preprocessing import LabelEncoder, StandardScaler\n",
        "import tensorflow as tf\n",
        "from tensorflow.keras import layers, models\n"
      ]
    },
    {
      "cell_type": "code",
      "execution_count": null,
      "metadata": {
        "id": "sT7-tNGhKpkK"
      },
      "outputs": [],
      "source": [
        "FLIC_TOKEN = \"flic_11d3da28e403d182c36a3530453e290add87d0b4a40ee50f17611f180d47956f\"\n",
        "HEADERS = {\"Flic-Token\": FLIC_TOKEN}\n",
        "\n",
        "BASE_URL = \"https://api.socialverseapp.com\""
      ]
    },
    {
      "cell_type": "code",
      "execution_count": null,
      "metadata": {
        "id": "CDpYzpuEK3bx"
      },
      "outputs": [],
      "source": [
        "# Get All Viewed Posts (METHOD: GET):\n",
        "\n",
        "allViewedPosts=requests.get(f\"{BASE_URL}/posts/view?resonance_algorithm=resonance_algorithm_cjsvervb7dbhss8bdrj89s44jfjdbsjd0xnjkbvuire8zcjwerui3njfbvsujc5if\")\n",
        "\n",
        "# Get All Liked Posts (METHOD: GET):\n",
        "\n",
        "allLikedPosts=requests.get(\"https://api.socialverseapp.com/posts/like?page=1&page_size=1000&resonance_algorithm=resonance_algorithm_cjsvervb7dbhss8bdrj89s44jfjdbsjd0xnjkbvuire8zcjwerui3njfbvsujc5if\")\n",
        "\n",
        "# Get All Inspired posts (METHOD: GET):\n",
        "\n",
        "allInspiredPosts=requests.get(\"https://api.socialverseapp.com/posts/inspire?page=1&page_size=1000&resonance_algorithm=resonance_algorithm_cjsvervb7dbhss8bdrj89s44jfjdbsjd0xnjkbvuire8zcjwerui3njfbvsujc5if\")\n",
        "\n",
        "# Get All Rated posts (METHOD: GET):\n",
        "\n",
        "allRatedPosts=requests.get(\"https://api.socialverseapp.com/posts/rating?page=1&page_size=1000&resonance_algorithm=resonance_algorithm_cjsvervb7dbhss8bdrj89s44jfjdbsjd0xnjkbvuire8zcjwerui3njfbvsujc5if\")"
      ]
    },
    {
      "cell_type": "code",
      "execution_count": null,
      "metadata": {
        "id": "-eTLEqBfL424"
      },
      "outputs": [],
      "source": [
        "# Get All Posts (Header required*) (METHOD: GET):\n",
        "\n",
        "allPosts=requests.get(\"https://api.socialverseapp.com/posts/summary/get?page=1&page_size=1000\",headers=HEADERS)\n",
        "\n",
        "# Get All Users (Header required*) (METHOD: GET):\n",
        "\n",
        "allUsers=requests.get(\"https://api.socialverseapp.com/users/get_all?page=1&page_size=1000\",headers=HEADERS)"
      ]
    },
    {
      "cell_type": "code",
      "execution_count": null,
      "metadata": {
        "id": "_btw5pbhTc2M"
      },
      "outputs": [],
      "source": [
        "def convertData(data):\n",
        "  return pd.DataFrame(data.json())"
      ]
    },
    {
      "cell_type": "code",
      "execution_count": null,
      "metadata": {
        "id": "SvZGQXUpTM00"
      },
      "outputs": [],
      "source": [
        "allViewedPostsdf=convertData(allViewedPosts)\n",
        "allLikedPostsdf=convertData(allLikedPosts)\n",
        "allInspiredPostsdf=convertData(allInspiredPosts)\n",
        "allRatedPostsdf=convertData(allRatedPosts)\n",
        "allPostsdf=convertData(allPosts)\n",
        "allUsersdf=convertData(allUsers)"
      ]
    },
    {
      "cell_type": "code",
      "execution_count": null,
      "metadata": {
        "id": "VUtYb-3zcnfR"
      },
      "outputs": [],
      "source": [
        "def save_csv(data,name):\n",
        "  data.to_csv(name, index=False)"
      ]
    },
    {
      "cell_type": "code",
      "execution_count": null,
      "metadata": {
        "id": "V_BHhEDEdUoR"
      },
      "outputs": [],
      "source": [
        "save_csv(allViewedPostsdf,\"allViewedPostsdf.csv\")\n",
        "save_csv(allLikedPostsdf,\"allLikedPostsdf.csv\")\n",
        "save_csv(allInspiredPostsdf,\"allInspiredPostsdf.csv\")\n",
        "save_csv(allRatedPostsdf,\"allRatedPostsdf.csv\")\n",
        "save_csv(allPostsdf,\"allPostsdf.csv\")\n",
        "save_csv(allUsersdf,\"allUsersdf.csv\")"
      ]
    },
    {
      "cell_type": "code",
      "execution_count": null,
      "metadata": {
        "id": "lssnrrYdddkx"
      },
      "outputs": [],
      "source": [
        "# Expand the 'posts' dictionary into separate columns\n",
        "viewed_posts_expanded = pd.json_normalize(allViewedPostsdf['posts'])\n",
        "liked_posts_expanded = pd.json_normalize(allLikedPostsdf['posts'])\n",
        "inspired_posts_expanded = pd.json_normalize(allInspiredPostsdf['posts'])\n",
        "rated_posts_expanded = pd.json_normalize(allRatedPostsdf['posts'])\n",
        "posts_expanded = pd.json_normalize(allPostsdf['posts'])\n",
        "users_expanded = pd.json_normalize(allUsersdf['users'])"
      ]
    },
    {
      "cell_type": "code",
      "execution_count": null,
      "metadata": {
        "colab": {
          "base_uri": "https://localhost:8080/"
        },
        "id": "NBs16NeJnUKk",
        "outputId": "7d1c901e-1956-497e-d24f-2cad57f3c12e"
      },
      "outputs": [
        {
          "name": "stdout",
          "output_type": "stream",
          "text": [
            "<class 'pandas.core.frame.DataFrame'>\n",
            "RangeIndex: 30 entries, 0 to 29\n",
            "Data columns (total 4 columns):\n",
            " #   Column     Non-Null Count  Dtype \n",
            "---  ------     --------------  ----- \n",
            " 0   id         30 non-null     int64 \n",
            " 1   post_id    30 non-null     int64 \n",
            " 2   user_id    30 non-null     int64 \n",
            " 3   viewed_at  30 non-null     object\n",
            "dtypes: int64(3), object(1)\n",
            "memory usage: 1.1+ KB\n",
            "<class 'pandas.core.frame.DataFrame'>\n",
            "RangeIndex: 1000 entries, 0 to 999\n",
            "Data columns (total 4 columns):\n",
            " #   Column    Non-Null Count  Dtype \n",
            "---  ------    --------------  ----- \n",
            " 0   id        1000 non-null   int64 \n",
            " 1   post_id   1000 non-null   int64 \n",
            " 2   user_id   1000 non-null   int64 \n",
            " 3   liked_at  1000 non-null   object\n",
            "dtypes: int64(3), object(1)\n",
            "memory usage: 31.4+ KB\n",
            "<class 'pandas.core.frame.DataFrame'>\n",
            "RangeIndex: 390 entries, 0 to 389\n",
            "Data columns (total 4 columns):\n",
            " #   Column       Non-Null Count  Dtype \n",
            "---  ------       --------------  ----- \n",
            " 0   id           390 non-null    int64 \n",
            " 1   post_id      390 non-null    int64 \n",
            " 2   user_id      390 non-null    int64 \n",
            " 3   inspired_at  390 non-null    object\n",
            "dtypes: int64(3), object(1)\n",
            "memory usage: 12.3+ KB\n",
            "<class 'pandas.core.frame.DataFrame'>\n",
            "RangeIndex: 1000 entries, 0 to 999\n",
            "Data columns (total 5 columns):\n",
            " #   Column          Non-Null Count  Dtype \n",
            "---  ------          --------------  ----- \n",
            " 0   id              1000 non-null   int64 \n",
            " 1   post_id         1000 non-null   int64 \n",
            " 2   user_id         1000 non-null   int64 \n",
            " 3   rating_percent  1000 non-null   int64 \n",
            " 4   rated_at        1000 non-null   object\n",
            "dtypes: int64(4), object(1)\n",
            "memory usage: 39.2+ KB\n",
            "<class 'pandas.core.frame.DataFrame'>\n",
            "RangeIndex: 1000 entries, 0 to 999\n",
            "Columns: 1706 entries, id to post_summary.other_person_details.additional_person.gender\n",
            "dtypes: bool(7), float64(16), int64(12), object(1671)\n",
            "memory usage: 13.0+ MB\n",
            "<class 'pandas.core.frame.DataFrame'>\n",
            "RangeIndex: 1000 entries, 0 to 999\n",
            "Data columns (total 31 columns):\n",
            " #   Column                     Non-Null Count  Dtype \n",
            "---  ------                     --------------  ----- \n",
            " 0   id                         1000 non-null   int64 \n",
            " 1   first_name                 1000 non-null   object\n",
            " 2   last_name                  1000 non-null   object\n",
            " 3   username                   1000 non-null   object\n",
            " 4   twitter_url                1000 non-null   object\n",
            " 5   email                      1000 non-null   object\n",
            " 6   gender                     1000 non-null   object\n",
            " 7   role                       1000 non-null   object\n",
            " 8   profile_url                1000 non-null   object\n",
            " 9   bio                        1000 non-null   object\n",
            " 10  website_url                1000 non-null   object\n",
            " 11  instagram-url              55 non-null     object\n",
            " 12  youtube_url                55 non-null     object\n",
            " 13  tictok_url                 55 non-null     object\n",
            " 14  isVerified                 1000 non-null   bool  \n",
            " 15  referral_code              1000 non-null   object\n",
            " 16  has_wallet                 1000 non-null   bool  \n",
            " 17  last_login                 1000 non-null   object\n",
            " 18  share_count                1000 non-null   int64 \n",
            " 19  total_reward_points        1000 non-null   int64 \n",
            " 20  referral_point             1000 non-null   int64 \n",
            " 21  referral_count             1000 non-null   int64 \n",
            " 22  total_inspired_user_count  1000 non-null   int64 \n",
            " 23  daily_login_streak         1000 non-null   int64 \n",
            " 24  post_count                 1000 non-null   int64 \n",
            " 25  following_count            1000 non-null   int64 \n",
            " 26  follower_count             1000 non-null   int64 \n",
            " 27  is_verified                1000 non-null   bool  \n",
            " 28  is_online                  1000 non-null   bool  \n",
            " 29  latitude                   1000 non-null   object\n",
            " 30  longitude                  1000 non-null   object\n",
            "dtypes: bool(4), int64(10), object(17)\n",
            "memory usage: 215.0+ KB\n"
          ]
        }
      ],
      "source": [
        "viewed_posts_expanded.info()\n",
        "liked_posts_expanded.info()\n",
        "inspired_posts_expanded.info()\n",
        "rated_posts_expanded.info()\n",
        "posts_expanded.info()\n",
        "users_expanded.info()"
      ]
    },
    {
      "cell_type": "code",
      "execution_count": null,
      "metadata": {
        "id": "gFifSNVTixqD"
      },
      "outputs": [],
      "source": [
        "save_csv(viewed_posts_expanded,\"viewed_posts_expanded.csv\")\n",
        "save_csv(liked_posts_expanded,\"liked_posts_expanded.csv\")\n",
        "save_csv(inspired_posts_expanded,\"inspired_posts_expanded.csv\")\n",
        "save_csv(rated_posts_expanded,\"rated_posts_expanded.csv\")\n",
        "save_csv(posts_expanded,\"posts_expanded.csv\")\n",
        "save_csv(users_expanded,\"users_expanded.csv\")"
      ]
    },
    {
      "cell_type": "code",
      "execution_count": null,
      "metadata": {
        "colab": {
          "base_uri": "https://localhost:8080/"
        },
        "id": "1brqgbuGf2h-",
        "outputId": "52a88b5b-ea70-4223-8f5a-685083735b71"
      },
      "outputs": [
        {
          "name": "stderr",
          "output_type": "stream",
          "text": [
            "<ipython-input-18-5d6cf31a79aa>:5: DtypeWarning: Columns (14,15,16,29,39,40,41,42,49,52,61,63,67,70,71,72,81,117,118,119,121,133,134,138,150,151,157,158,159,160,161,162,163,164,167,171,172,176,177,178,182,183,184,192,194,196,201,206,208,210,211,212,213,215,216,223,224,225,226,229,235,236,237,238,240,243,245,247,248,251,252,253,254,257,258,259,262,263,268,271,272,274,275,276,277,278,279,280,281,282,283,284,286,290,291,295,296,297,298,301,304,305,307,309,310,311,318,319,325,327,328,329,330,331,332,333,334,335,338,341,344,345,346,347,348,349,350,354,355,356,357,358,359,360,361,362,364,365,370,371,380,381,382,383,384,387,388,391,392,393,395,397,398,399,400,401,402,404,405,406,407,408,409,410,411,412,413,414,415,416,417,418,419,420,421,422,423,424,425,426,427,428,429,430,431,432,433,434,435,436,437,438,440,442,443,444,445,446,447,448,449,450,451,452,453,454,455,456,457,458,459,461,466,469,470,472,473,474,476,479,480,481,482,485,486,489,490,493,494,495,496,497,498,499,500,506,507,508,509,510,511,513,515,517,518,519,520,521,522,523,525,527,528,529,531,532,533,534,535,536,537,538,539,540,541,542,543,544,545,546,547,548,549,550,551,552,553,554,555,557,558,559,560,561,562,563,564,565,566,568,570,571,572,573,574,575,576,577,578,579,583,586,588,594,595,596,597,598,599,600,601,602,604,606,607,608,610,611,612,614,615,616,618,619,620,621,624,626,627,628,632,633,635,636,637,639,641,642,643,644,646,647,648,650,651,652,653,654,655,656,658,659,660,661,662,663,666,668,669,671,672,673,674,680,681,682,683,684,685,686,687,688,689,690,691,692,693,694,695,696,697,698,699,700,701,702,704,705,706,707,708,709,710,711,712,714,715,716,717,718,719,721,722,723,724,725,726,727,728,730,731,733,735,737,738,739,741,742,743,744,745,746,747,748,749,750,751,752,753,754,756,757,758,759,760,762,763,764,766,767,768,772,773,775,776,777,778,779,780,781,782,783,784,785,786,787,788,789,790,791,792,793,794,795,796,797,798,799,800,801,802,803,804,805,806,807,809,810,811,813,817,818,819,820,821,822,823,824,825,826,827,829,830,831,832,833,836,837,838,839,840,841,842,843,844,845,846,847,850,851,852,853,854,856,857,858,859,860,861,862,863,864,865,867,868,869,870,871,872,873,878,880,883,884,886,887,888,889,890,892,893,894,895,896,897,898,899,900,902,903,905,906,908,909,910,911,912,913,914,915,916,917,919,920,921,922,923,924,925,926,927,928,929,930,932,934,935,936,937,938,939,942,943,947,949,950,951,952,953,954,955,956,957,958,960,961,963,964,965,966,967,968,970,972,973,975,976,977,978,979,981,983,984,985,986,987,988,990,991,992,993,994,995,996,997,998,999,1000,1001,1006,1007,1009,1010,1011,1012,1013,1014,1015,1017,1018,1019,1020,1021,1022,1023,1025,1026,1027,1028,1029,1030,1033,1034,1035,1036,1037,1038,1039,1040,1041,1042,1044,1047,1048,1049,1050,1051,1052,1053,1054,1055,1056,1057,1058,1059,1061,1062,1063,1064,1065,1066,1067,1068,1069,1070,1071,1072,1073,1074,1075,1076,1077,1078,1079,1081,1083,1084,1085,1086,1087,1088,1089,1090,1092,1094,1095,1096,1099,1102,1104,1105,1106,1107,1108,1109,1110,1111,1112,1113,1114,1115,1116,1117,1118,1119,1120,1121,1122,1123,1124,1125,1126,1129,1130,1131,1132,1133,1134,1135,1137,1138,1139,1140,1141,1142,1144,1145,1146,1147,1149,1150,1151,1152,1153,1154,1155,1156,1157,1159,1160,1161,1163,1164,1165,1166,1169,1170,1171,1172,1173,1174,1176,1177,1178,1179,1180,1181,1183,1184,1186,1187,1188,1189,1190,1191,1192,1193,1194,1195,1196,1197,1199,1200,1201,1202,1203,1204,1205,1206,1208,1209,1210,1211,1212,1213,1214,1215,1216,1217,1218,1219,1221,1222,1223,1224,1225,1226,1227,1228,1229,1230,1231,1232,1233,1234,1235,1236,1237,1238,1239,1240,1241,1242,1243,1244,1245,1246,1247,1248,1249,1250,1251,1252,1253,1254,1255,1256,1257,1258,1259,1260,1261,1262,1263,1264,1265,1266,1267,1268,1269,1270,1271,1272,1273,1274,1275,1276,1277,1278,1279,1280,1281,1282,1283,1284,1285,1288,1289,1290,1291,1292,1295,1296,1297,1298,1299,1300,1301,1302,1303,1304,1305,1306,1307,1308,1309,1310,1311,1312,1313,1314,1315,1316,1317,1318,1319,1320,1321,1322,1323,1324,1325,1326,1327,1328,1329,1330,1331,1332,1333,1334,1335,1336,1337,1338,1339,1340,1341,1342,1343,1344,1345,1346,1347,1348,1349,1350,1351,1352,1353,1354,1355,1356,1357,1358,1359,1360,1361,1362,1363,1364,1365,1366,1367,1368,1369,1370,1371,1372,1373,1374,1375,1376,1377,1378,1379,1380,1381,1382,1383,1384,1385,1386,1387,1388,1389,1390,1391,1392,1393,1394,1395,1396,1397,1398,1399,1400,1401,1402,1403,1404,1405,1406,1407,1408,1409,1410,1411,1412,1413,1414,1415,1416,1417,1418,1419,1420,1421,1422,1423,1424,1425,1426,1427,1428,1429,1430,1431,1432,1433,1434,1435,1436,1437,1438,1439,1440,1441,1442,1443,1444,1445,1446,1447,1448,1450,1451,1452,1453,1454,1455,1456,1457,1458,1459,1460,1461,1462,1463,1464,1465,1466,1467,1468,1469,1470,1471,1472,1473,1474,1475,1476,1477,1478,1479,1480,1481,1482,1483,1484,1485,1486,1487,1488,1489,1490,1491,1492,1493,1494,1495,1496,1497,1498,1499,1500,1501,1502,1503,1504,1505,1506,1507,1508,1509,1510,1511,1512,1513,1514,1515,1516,1517,1518,1519,1520,1521,1522,1523,1524,1525,1526,1527,1528,1529,1530,1531,1532,1533,1534,1535,1536,1537,1538,1539,1540,1541,1542,1543,1544,1545,1546,1547,1548,1549,1550,1551,1552,1553,1554,1555,1556,1557,1558,1559,1560,1561,1562,1563,1564,1565,1566,1567,1568,1569,1570,1571,1572,1573,1574,1575,1576,1577,1578,1579,1580,1581,1582,1583,1584,1585,1586,1587,1588,1589,1590,1591,1592,1593,1594,1595,1596,1597,1598,1599,1600,1601,1602,1603,1604,1605,1606,1607,1608,1609,1610,1611,1612,1613,1614,1615,1616,1617,1618,1619,1620,1621,1622,1623,1624,1625,1626,1627,1628,1629,1630,1631,1633,1634,1635,1636,1637,1638,1639,1640,1641,1642,1643,1644,1645,1646,1647,1648,1649,1650,1651,1652,1653,1654,1655,1656,1657,1658,1659,1660,1661,1662,1663,1664,1665,1666,1667,1668,1669,1670,1671,1672,1673,1674,1675,1676,1677,1678,1679,1680,1681,1682,1683,1684,1685,1686,1687,1688,1689,1690,1691,1692,1693,1694,1695,1696,1697,1698,1699,1700,1701,1702,1703,1704,1705) have mixed types. Specify dtype option on import or set low_memory=False.\n",
            "  posts = pd.read_csv(\"posts_expanded.csv\")\n"
          ]
        }
      ],
      "source": [
        "import pandas as pd\n",
        "\n",
        "# Load the expanded CSVs\n",
        "users = pd.read_csv(\"users_expanded.csv\")\n",
        "posts = pd.read_csv(\"posts_expanded.csv\")\n",
        "viewed = pd.read_csv(\"viewed_posts_expanded.csv\")\n",
        "liked = pd.read_csv(\"liked_posts_expanded.csv\")\n",
        "inspired = pd.read_csv(\"inspired_posts_expanded.csv\")\n",
        "rated = pd.read_csv(\"rated_posts_expanded.csv\")\n",
        "\n",
        "# Merge interactions with posts\n",
        "viewed_merged = viewed.merge(posts, left_on='post_id', right_on='id', suffixes=('_viewed', '_post'))\n",
        "liked_merged = liked.merge(posts, left_on='post_id', right_on='id', suffixes=('_liked', '_post'))\n",
        "inspired_merged = inspired.merge(posts, left_on='post_id', right_on='id', suffixes=('_inspired', '_post'))\n",
        "rated_merged = rated.merge(posts, left_on='post_id', right_on='id', suffixes=('_rated', '_post'))\n",
        "\n",
        "# Merge interactions with users\n",
        "viewed_merged = viewed_merged.merge(users, left_on='user_id', right_on='id', suffixes=('', '_user'))\n",
        "liked_merged = liked_merged.merge(users, left_on='user_id', right_on='id', suffixes=('', '_user'))\n",
        "inspired_merged = inspired_merged.merge(users, left_on='user_id', right_on='id', suffixes=('', '_user'))\n",
        "rated_merged = rated_merged.merge(users, left_on='user_id', right_on='id', suffixes=('', '_user'))\n",
        "\n",
        "# Save the merged datasets\n",
        "viewed_merged.to_csv(\"merged_viewed.csv\", index=False)\n",
        "liked_merged.to_csv(\"merged_liked.csv\", index=False)\n",
        "inspired_merged.to_csv(\"merged_inspired.csv\", index=False)\n",
        "rated_merged.to_csv(\"merged_rated.csv\", index=False)\n"
      ]
    },
    {
      "cell_type": "code",
      "execution_count": null,
      "metadata": {
        "colab": {
          "base_uri": "https://localhost:8080/"
        },
        "id": "EDI6su49pZ9r",
        "outputId": "a29644df-821c-4b58-d233-f1a16c25fc0c"
      },
      "outputs": [
        {
          "data": {
            "text/plain": [
              "Index(['id_liked', 'post_id', 'user_id', 'liked_at', 'id_post', 'topic',\n",
              "       'slug', 'title', 'identifier', 'comment_count',\n",
              "       ...\n",
              "       'referral_count', 'total_inspired_user_count', 'daily_login_streak',\n",
              "       'post_count', 'following_count', 'follower_count', 'is_verified',\n",
              "       'is_online', 'latitude', 'longitude'],\n",
              "      dtype='object', length=1741)"
            ]
          },
          "execution_count": 19,
          "metadata": {},
          "output_type": "execute_result"
        }
      ],
      "source": [
        "liked_merged.columns"
      ]
    },
    {
      "cell_type": "code",
      "execution_count": null,
      "metadata": {
        "colab": {
          "base_uri": "https://localhost:8080/"
        },
        "id": "BkUbzojRp2N6",
        "outputId": "a173dcf9-374f-4d1b-c633-363610bcbecd"
      },
      "outputs": [
        {
          "name": "stderr",
          "output_type": "stream",
          "text": [
            "<ipython-input-20-6ac72a37d5e9>:2: DtypeWarning: Columns (52,53,64,65,67,85,87,106,122,123,124,125,127,130,134,138,142,143,144,151,154,158,162,163,164,165,166,167,168,171,175,176,179,180,181,182,186,187,188,191,192,201,204,205,207,210,212,213,214,215,216,217,219,220,223,224,225,226,227,228,229,232,233,235,237,239,240,245,248,255,256,257,258,268,269,270,271,279,296,302,303,306,307,310,313,314,315,316,320,324,325,326,327,330,336,341,347,357,370,371,372,373,374,375,377,378,379,380,381,382,383,384,385,386,387,388,390,391,396,399,402,406,442,464,466,468,471,472,474,482,485,487,491,492,496,506,507,510,513,515,520,528,529,535,536,537,544,546,559,560,561,562,563,564,565,566,567,568,569,570,572,574,575,576,577,578,579,580,581,582,583,584,586,587,588,589,590,591,592,594,596,597,602,603,604,605,606,607,608,610,611,612,614,615,616,617,618,619,620,621,622,623,624,625,626,627,628,629,630,631,632,636,637,639,640,641,642,643,644,647,648,649,650,651,652,653,654,655,656,657,661,670,671,673,674,675,682,717,728,741,742,755,762,763,766,767,768,769,775,778,781,790,792,798,820,821,822,823,824,825,826,827,828,829,830,831,832,833,842,843,844,845,846,847,848,849,850,851,854,863,864,865,866,867,868,869,870,871,872,875,876,877,878,879,880,881,882,883,884,885,886,887,893,897,898,899,900,901,902,903,904,905,906,907,912,933,934,936,937,943,944,945,950,951,952,953,963,970,972,974,976,977,978,1012,1013,1014,1015,1016,1023,1028,1035,1047,1053,1054,1055,1056,1057,1058,1059,1060,1061,1062,1063,1064,1065,1066,1067,1068,1069,1070,1071,1072,1073,1074,1075,1076,1077,1078,1079,1080,1081,1082,1083,1084,1085,1089,1090,1091,1092,1093,1094,1095,1096,1097,1098,1099,1100,1101,1102,1117,1118,1119,1120,1121,1122,1132,1139,1141,1142,1143,1144,1145,1146,1147,1148,1149,1155,1156,1157,1158,1159,1160,1162,1176,1177,1178,1179,1180,1181,1182,1183,1211,1212,1213,1214,1215,1216,1217,1218,1219,1220,1221,1231,1232,1233,1234,1235,1236,1237,1238,1239,1240,1241,1242,1243,1244,1245,1246,1247,1248,1249,1250,1251,1252,1253,1254,1255,1256,1257,1279,1280,1312,1313,1317,1330,1368,1414,1422,1466,1467,1468,1469,1470,1471,1472,1473,1474,1504,1506,1507,1515,1516,1517,1518,1519,1520,1526,1575,1576,1577,1578,1579,1580,1581,1582,1583,1585,1586,1587,1588,1589,1590,1591,1592,1593,1594,1595,1596,1597,1598,1599,1603,1609,1610,1630,1631,1632,1633,1634,1723) have mixed types. Specify dtype option on import or set low_memory=False.\n",
            "  liked_merged = pd.read_csv(\"merged_liked.csv\")\n"
          ]
        }
      ],
      "source": [
        "# Load merged liked dataset\n",
        "liked_merged = pd.read_csv(\"merged_liked.csv\")\n",
        "\n",
        "# Define important columns\n",
        "important_columns = [\n",
        "    'post_id', 'user_id', 'title', 'comment_count',\n",
        "    'view_count', 'exit_count', 'rating_count',\n",
        "    'average_rating', 'post_count',\n",
        "    'follower_count', 'following_count'\n",
        "]\n",
        "\n",
        "# Filter dataset\n",
        "liked_filtered = liked_merged[important_columns]\n",
        "\n",
        "# Save cleaned dataset\n",
        "liked_filtered.to_csv(\"liked_filtered.csv\", index=False)\n"
      ]
    },
    {
      "cell_type": "code",
      "execution_count": null,
      "metadata": {
        "colab": {
          "base_uri": "https://localhost:8080/"
        },
        "id": "fJdkHPacrkWp",
        "outputId": "989c68f6-d048-4ddb-fe80-4e5ff615bb63"
      },
      "outputs": [
        {
          "name": "stderr",
          "output_type": "stream",
          "text": [
            "<ipython-input-21-1296ccab9821>:1: SettingWithCopyWarning: \n",
            "A value is trying to be set on a copy of a slice from a DataFrame.\n",
            "Try using .loc[row_indexer,col_indexer] = value instead\n",
            "\n",
            "See the caveats in the documentation: https://pandas.pydata.org/pandas-docs/stable/user_guide/indexing.html#returning-a-view-versus-a-copy\n",
            "  liked_filtered['liked'] = 1  # All are positive interactions\n"
          ]
        }
      ],
      "source": [
        "liked_filtered['liked'] = 1  # All are positive interactions\n"
      ]
    },
    {
      "cell_type": "code",
      "execution_count": null,
      "metadata": {
        "colab": {
          "base_uri": "https://localhost:8080/"
        },
        "id": "uH-o8VnKrT0C",
        "outputId": "8dec9adc-4351-4511-c5f8-1fd9676cff30"
      },
      "outputs": [
        {
          "name": "stdout",
          "output_type": "stream",
          "text": [
            "<class 'pandas.core.frame.DataFrame'>\n",
            "RangeIndex: 1000 entries, 0 to 999\n",
            "Data columns (total 12 columns):\n",
            " #   Column           Non-Null Count  Dtype \n",
            "---  ------           --------------  ----- \n",
            " 0   post_id          1000 non-null   int64 \n",
            " 1   user_id          1000 non-null   int64 \n",
            " 2   title            677 non-null    object\n",
            " 3   comment_count    1000 non-null   int64 \n",
            " 4   view_count       1000 non-null   int64 \n",
            " 5   exit_count       1000 non-null   int64 \n",
            " 6   rating_count     1000 non-null   int64 \n",
            " 7   average_rating   1000 non-null   int64 \n",
            " 8   post_count       1000 non-null   int64 \n",
            " 9   follower_count   1000 non-null   int64 \n",
            " 10  following_count  1000 non-null   int64 \n",
            " 11  liked            1000 non-null   int64 \n",
            "dtypes: int64(11), object(1)\n",
            "memory usage: 93.9+ KB\n"
          ]
        }
      ],
      "source": [
        "liked_filtered.info()"
      ]
    },
    {
      "cell_type": "code",
      "execution_count": null,
      "metadata": {
        "colab": {
          "base_uri": "https://localhost:8080/"
        },
        "id": "xXY3jMp5r5I4",
        "outputId": "5cfd1a4f-995f-43be-b032-1fe414d97b09"
      },
      "outputs": [
        {
          "name": "stderr",
          "output_type": "stream",
          "text": [
            "<ipython-input-23-2795ce3e5633>:8: SettingWithCopyWarning: \n",
            "A value is trying to be set on a copy of a slice from a DataFrame.\n",
            "Try using .loc[row_indexer,col_indexer] = value instead\n",
            "\n",
            "See the caveats in the documentation: https://pandas.pydata.org/pandas-docs/stable/user_guide/indexing.html#returning-a-view-versus-a-copy\n",
            "  liked_filtered[cols_to_scale] = scaler.fit_transform(liked_filtered[cols_to_scale])\n"
          ]
        }
      ],
      "source": [
        "from sklearn.preprocessing import MinMaxScaler\n",
        "\n",
        "scaler = MinMaxScaler()\n",
        "cols_to_scale = ['comment_count', 'view_count', 'exit_count',\n",
        "                 'rating_count', 'average_rating',\n",
        "                 'post_count', 'follower_count', 'following_count']\n",
        "\n",
        "liked_filtered[cols_to_scale] = scaler.fit_transform(liked_filtered[cols_to_scale])\n"
      ]
    },
    {
      "cell_type": "code",
      "execution_count": null,
      "metadata": {
        "id": "Menkq8Iir-H4"
      },
      "outputs": [],
      "source": [
        "liked_filtered.to_csv(\"liked_filtered2.csv\", index=False)"
      ]
    },
    {
      "cell_type": "code",
      "execution_count": null,
      "metadata": {
        "colab": {
          "base_uri": "https://localhost:8080/"
        },
        "id": "Eo2lzooysrjX",
        "outputId": "58fa4b89-556e-4372-d368-be3d414ffa93"
      },
      "outputs": [
        {
          "name": "stdout",
          "output_type": "stream",
          "text": [
            "<class 'pandas.core.frame.DataFrame'>\n",
            "RangeIndex: 1000 entries, 0 to 999\n",
            "Data columns (total 12 columns):\n",
            " #   Column           Non-Null Count  Dtype  \n",
            "---  ------           --------------  -----  \n",
            " 0   post_id          1000 non-null   int64  \n",
            " 1   user_id          1000 non-null   int64  \n",
            " 2   title            677 non-null    object \n",
            " 3   comment_count    1000 non-null   float64\n",
            " 4   view_count       1000 non-null   float64\n",
            " 5   exit_count       1000 non-null   float64\n",
            " 6   rating_count     1000 non-null   float64\n",
            " 7   average_rating   1000 non-null   float64\n",
            " 8   post_count       1000 non-null   float64\n",
            " 9   follower_count   1000 non-null   float64\n",
            " 10  following_count  1000 non-null   float64\n",
            " 11  liked            1000 non-null   int64  \n",
            "dtypes: float64(8), int64(3), object(1)\n",
            "memory usage: 93.9+ KB\n"
          ]
        }
      ],
      "source": [
        "liked_filtered.info()"
      ]
    },
    {
      "cell_type": "code",
      "execution_count": null,
      "metadata": {
        "colab": {
          "base_uri": "https://localhost:8080/"
        },
        "id": "zDQUQjyrtJDm",
        "outputId": "b0487387-cab0-4efb-95ee-73015f1fdcec"
      },
      "outputs": [
        {
          "name": "stderr",
          "output_type": "stream",
          "text": [
            "<ipython-input-26-c00343806316>:1: SettingWithCopyWarning: \n",
            "A value is trying to be set on a copy of a slice from a DataFrame\n",
            "\n",
            "See the caveats in the documentation: https://pandas.pydata.org/pandas-docs/stable/user_guide/indexing.html#returning-a-view-versus-a-copy\n",
            "  liked_filtered.dropna(inplace=True)\n"
          ]
        }
      ],
      "source": [
        "liked_filtered.dropna(inplace=True)"
      ]
    },
    {
      "cell_type": "code",
      "execution_count": null,
      "metadata": {
        "colab": {
          "base_uri": "https://localhost:8080/"
        },
        "id": "KqpbdIQJtRc_",
        "outputId": "fa05f46d-777a-430b-c0f3-cdeed07470a2"
      },
      "outputs": [
        {
          "name": "stderr",
          "output_type": "stream",
          "text": [
            "<ipython-input-27-747e9d3954f4>:2: SettingWithCopyWarning: \n",
            "A value is trying to be set on a copy of a slice from a DataFrame.\n",
            "Try using .loc[row_indexer,col_indexer] = value instead\n",
            "\n",
            "See the caveats in the documentation: https://pandas.pydata.org/pandas-docs/stable/user_guide/indexing.html#returning-a-view-versus-a-copy\n",
            "  liked_filtered['liked'] = 1\n"
          ]
        }
      ],
      "source": [
        "# Add 'liked' column if not already present\n",
        "liked_filtered['liked'] = 1\n",
        "\n",
        "# Randomly select 250 indices to flip\n",
        "np.random.seed(42)  # For reproducibility\n",
        "negative_indices = np.random.choice(liked_filtered.index, size=250, replace=False)\n",
        "\n",
        "# Flip those 'liked' values to 0\n",
        "liked_filtered.loc[negative_indices, 'liked'] = 0\n",
        "\n",
        "# Save the modified dataset\n",
        "liked_filtered.to_csv(\"balanced_liked_dataset.csv\", index=False)\n"
      ]
    },
    {
      "cell_type": "code",
      "execution_count": null,
      "metadata": {
        "id": "Hx-iSEl60P8o"
      },
      "outputs": [],
      "source": [
        "liked_filtered=pd.read_csv(\"/content/liked_filtered_2.csv\")\n",
        "# Add 'liked' column if not already present\n",
        "liked_filtered['liked'] = 1\n",
        "\n",
        "# Randomly select 250 indices to flip\n",
        "np.random.seed(42)  # For reproducibility\n",
        "negative_indices = np.random.choice(liked_filtered.index, size=250, replace=False)\n",
        "\n",
        "# Flip those 'liked' values to 0\n",
        "liked_filtered.loc[negative_indices, 'liked'] = 0\n",
        "\n",
        "# Save the modified dataset\n",
        "liked_filtered.to_csv(\"balanced_liked_dataset2.csv\", index=False)\n"
      ]
    }
  ],
  "metadata": {
    "colab": {
      "provenance": []
    },
    "kernelspec": {
      "display_name": "Python 3",
      "name": "python3"
    },
    "language_info": {
      "name": "python"
    }
  },
  "nbformat": 4,
  "nbformat_minor": 0
}
