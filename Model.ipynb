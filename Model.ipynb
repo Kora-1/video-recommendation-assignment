{
  "cells": [
    {
      "cell_type": "code",
      "execution_count": null,
      "metadata": {
        "id": "_rwSR4Nht2f2"
      },
      "outputs": [],
      "source": [
        "import pandas as pd\n",
        "import numpy as np\n",
        "from sklearn.model_selection import train_test_split\n",
        "from sklearn.preprocessing import StandardScaler\n",
        "from tensorflow.keras.models import Model\n",
        "from tensorflow.keras.layers import Input, Dense, Embedding, Flatten, Concatenate, TextVectorization\n",
        "from tensorflow.keras.optimizers import Adam\n",
        "from tensorflow.keras.layers import GlobalAveragePooling1D\n",
        "\n",
        "# Load the balanced dataset\n",
        "df = pd.read_csv(\"balanced_liked_dataset.csv\")\n",
        "\n",
        "# Handle missing titles (fill with empty string)\n",
        "df['title'] = df['title'].fillna('')\n",
        "\n",
        "# Split features\n",
        "numerical_features = df[['comment_count', 'view_count', 'exit_count', 'rating_count',\n",
        "                         'average_rating', 'post_count', 'follower_count', 'following_count']].values\n",
        "\n",
        "titles = df['title'].values\n",
        "labels = df['liked'].values\n",
        "\n",
        "# Scale numerical features\n",
        "scaler = StandardScaler()\n",
        "numerical_features_scaled = scaler.fit_transform(numerical_features)\n",
        "\n",
        "# Split into train/test\n",
        "X_num_train, X_num_test, X_title_train, X_title_test, y_train, y_test = train_test_split(\n",
        "    numerical_features_scaled, titles, labels, test_size=0.2, random_state=42)\n",
        "\n",
        "# Title vectorization\n",
        "max_tokens = 5000\n",
        "output_sequence_length = 20\n",
        "\n",
        "title_vectorizer = TextVectorization(max_tokens=max_tokens, output_sequence_length=output_sequence_length)\n",
        "title_vectorizer.adapt(X_title_train)\n",
        "\n",
        "# Model inputs\n",
        "numerical_input = Input(shape=(8,), name=\"numerical_input\")\n",
        "title_input = Input(shape=(), dtype=\"string\", name=\"title_input\")\n",
        "title_vector = title_vectorizer(title_input)\n",
        "title_embed = Embedding(input_dim=max_tokens, output_dim=16)(title_vector)\n",
        "title_pooled = GlobalAveragePooling1D()(title_embed)\n",
        "\n",
        "# Concatenate\n",
        "merged = Concatenate()([numerical_input, title_pooled])\n",
        "\n",
        "# Dense layers\n",
        "x = Dense(64, activation=\"relu\")(merged)\n",
        "x = Dense(32, activation=\"relu\")(x)\n",
        "output = Dense(1, activation=\"sigmoid\")(x)\n",
        "\n",
        "# Build model\n",
        "model = Model(inputs=[numerical_input, title_input], outputs=output)\n",
        "model.compile(optimizer=Adam(learning_rate=0.001), loss=\"binary_crossentropy\", metrics=[\"accuracy\"])\n",
        "\n",
        "# Summary\n",
        "model.summary()\n",
        "\n",
        "# from keras.callbacks import EarlyStopping\n",
        "# early_stop = EarlyStopping(monitor='val_loss', patience=5, restore_best_weights=True)\n",
        "\n",
        "\n",
        "# Train the model\n",
        "history = model.fit(\n",
        "    {\"numerical_input\": X_num_train, \"title_input\": X_title_train},\n",
        "    y_train,\n",
        "    validation_split=0.1,\n",
        "    epochs=50,\n",
        "    batch_size=32\n",
        "    # callbacks=[early_stop]\n",
        ")\n",
        "\n",
        "# Evaluate\n",
        "loss, accuracy = model.evaluate(\n",
        "    {\"numerical_input\": X_num_test, \"title_input\": X_title_test},\n",
        "    y_test\n",
        ")\n",
        "print(f\"Test Accuracy: {accuracy * 100:.2f}%\")\n"
      ]
    },
    {
      "cell_type": "code",
      "execution_count": null,
      "metadata": {
        "id": "GGhpaDd5uVDN"
      },
      "outputs": [],
      "source": [
        "# from tensorflow.keras import backend as K\n",
        "# K.clear_session()\n",
        "model.save('my_model1.keras')"
      ]
    }
  ],
  "metadata": {
    "colab": {
      "provenance": []
    },
    "kernelspec": {
      "display_name": "Python 3",
      "name": "python3"
    },
    "language_info": {
      "name": "python"
    }
  },
  "nbformat": 4,
  "nbformat_minor": 0
}
